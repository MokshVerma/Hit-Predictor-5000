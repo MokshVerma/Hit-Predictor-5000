{
 "cells": [
  {
   "cell_type": "code",
   "execution_count": 129,
   "metadata": {},
   "outputs": [],
   "source": [
    "import pandas as pd"
   ]
  },
  {
   "cell_type": "code",
   "execution_count": 130,
   "metadata": {},
   "outputs": [],
   "source": [
    "train = pd.read_csv('jugaad.csv')"
   ]
  },
  {
   "cell_type": "code",
   "execution_count": 131,
   "metadata": {},
   "outputs": [
    {
     "data": {
      "text/plain": [
       "0    we took a walk that night but it wasn't the sa...\n",
       "1    i'm coming out of my cage and i've been doing ...\n",
       "2    save some face, you know you've only got one c...\n",
       "3    breakin' my back just to know your name sevent...\n",
       "4    when there's nowhere else to run is there room...\n",
       "Name: Lyrics, dtype: object"
      ]
     },
     "execution_count": 131,
     "metadata": {},
     "output_type": "execute_result"
    }
   ],
   "source": [
    "#Everything in lowercase\n",
    "train['Lyrics'] = train['Lyrics'].apply(lambda x: \" \".join(x.lower() for x in str(x).split()))\n",
    "train['Lyrics'].head()"
   ]
  },
  {
   "cell_type": "code",
   "execution_count": 132,
   "metadata": {},
   "outputs": [
    {
     "data": {
      "text/plain": [
       "0    we took a walk that night but it wasnt the sam...\n",
       "1    im coming out of my cage and ive been doing ju...\n",
       "2    save some face you know youve only got one cha...\n",
       "3    breakin my back just to know your name sevente...\n",
       "4    when theres nowhere else to run is there room ...\n",
       "Name: Lyrics, dtype: object"
      ]
     },
     "execution_count": 132,
     "metadata": {},
     "output_type": "execute_result"
    }
   ],
   "source": [
    "#Removing punctuation that does not add meaning to the song\n",
    "train['Lyrics'] = train['Lyrics'].str.replace('[^\\w\\s]','')\n",
    "train['Lyrics'].head()"
   ]
  },
  {
   "cell_type": "code",
   "execution_count": 133,
   "metadata": {},
   "outputs": [
    {
     "data": {
      "text/plain": [
       "0    took walk night wasnt fight promenade rain sai...\n",
       "1    im coming cage ive fine gotta gotta want start...\n",
       "2    save face know youve got one change ways youre...\n",
       "3    breakin back know name seventeen tracks ive ga...\n",
       "4    theres nowhere else run room one son one son h...\n",
       "Name: Lyrics, dtype: object"
      ]
     },
     "execution_count": 133,
     "metadata": {},
     "output_type": "execute_result"
    }
   ],
   "source": [
    "#Removing of stop words\n",
    "from nltk.corpus import stopwords\n",
    "\n",
    "stop = stopwords.words('english')\n",
    "train['Lyrics'] = train['Lyrics'].apply(lambda x: \" \".join(x for x in str(x).split() if x not in stop))\n",
    "train['Lyrics'].head()"
   ]
  },
  {
   "cell_type": "code",
   "execution_count": 134,
   "metadata": {},
   "outputs": [],
   "source": [
    "# #Top ten most occurring words in lyrics...\n",
    "# freq = pd.Series(' '.join(train['Lyrics']).split()).value_counts()[:10]\n",
    "# freq"
   ]
  },
  {
   "cell_type": "code",
   "execution_count": 135,
   "metadata": {},
   "outputs": [],
   "source": [
    "# #Removal of those common words\n",
    "# freq = list(freq.index)\n",
    "# train['Lyrics'] = train['Lyrics'].apply(lambda x: \" \".join(x for x in x.split() if x not in freq))\n",
    "# train['Lyrics'].head()"
   ]
  },
  {
   "cell_type": "code",
   "execution_count": 136,
   "metadata": {
    "scrolled": true
   },
   "outputs": [
    {
     "data": {
      "text/plain": [
       "fabric        1\n",
       "tour          1\n",
       "crowns        1\n",
       "bikini        1\n",
       "souls         1\n",
       "buttshowin    1\n",
       "wolf          1\n",
       "bump          1\n",
       "fairly        1\n",
       "sequel        1\n",
       "dtype: int64"
      ]
     },
     "execution_count": 136,
     "metadata": {},
     "output_type": "execute_result"
    }
   ],
   "source": [
    "#Number of RARE words. These words occur so rarely that their meaning don't really constitute anything.\n",
    "freq = pd.Series(' '.join(train['Lyrics']).split()).value_counts()[-10:]\n",
    "freq"
   ]
  },
  {
   "cell_type": "code",
   "execution_count": 137,
   "metadata": {},
   "outputs": [
    {
     "data": {
      "text/plain": [
       "0    took walk night wasnt fight promenade rain sai...\n",
       "1    im coming cage ive fine gotta gotta want start...\n",
       "2    save face know youve got one change ways youre...\n",
       "3    breakin back know name seventeen tracks ive ga...\n",
       "4    theres nowhere else run room one son one son h...\n",
       "Name: Lyrics, dtype: object"
      ]
     },
     "execution_count": 137,
     "metadata": {},
     "output_type": "execute_result"
    }
   ],
   "source": [
    "#Removal of rare words\n",
    "freq = list(freq.index)\n",
    "train['Lyrics'] = train['Lyrics'].apply(lambda x: \" \".join(x for x in x.split() if x not in freq))\n",
    "train['Lyrics'].head()"
   ]
  },
  {
   "cell_type": "code",
   "execution_count": 138,
   "metadata": {},
   "outputs": [],
   "source": [
    "# #Correction of Spelling mistakes\n",
    "# from textblob import TextBlob\n",
    "# train['Lyrics'] = train['Lyrics'].apply(lambda x: str(TextBlob(x).correct()))"
   ]
  },
  {
   "cell_type": "code",
   "execution_count": 139,
   "metadata": {
    "scrolled": true
   },
   "outputs": [
    {
     "data": {
      "text/plain": [
       "0    took walk night wasnt fight promenade rain sai...\n",
       "1    im coming cage ive fine gotta gotta want start...\n",
       "2    save face know youve got one change ways youre...\n",
       "3    breakin back know name seventeen tracks ive ga...\n",
       "4    theres nowhere else run room one son one son h...\n",
       "Name: Lyrics, dtype: object"
      ]
     },
     "execution_count": 139,
     "metadata": {},
     "output_type": "execute_result"
    }
   ],
   "source": [
    "train['Lyrics'].head()"
   ]
  },
  {
   "cell_type": "code",
   "execution_count": 140,
   "metadata": {},
   "outputs": [],
   "source": [
    "# #Stemming is basically removing the 'ly' or 'ing' from the end of the words....\n",
    "# from nltk.stem import PorterStemmer\n",
    "# st = PorterStemmer()\n",
    "# train['Lyrics'] = train['Lyrics'].apply(lambda x: \" \".join([st.stem(word) for word in x.split()]))\n",
    "# train['Lyrics'].head()"
   ]
  },
  {
   "cell_type": "code",
   "execution_count": 141,
   "metadata": {
    "scrolled": true
   },
   "outputs": [
    {
     "data": {
      "text/plain": [
       "0    took walk night wasnt fight promenade rain sai...\n",
       "1    im coming cage ive fine gotta gotta want start...\n",
       "2    save face know youve got one change way youre ...\n",
       "3    breakin back know name seventeen track ive gam...\n",
       "4    there nowhere else run room one son one son ho...\n",
       "Name: Lyrics, dtype: object"
      ]
     },
     "execution_count": 141,
     "metadata": {},
     "output_type": "execute_result"
    }
   ],
   "source": [
    "#Lemmatization is basically converting a word into its root word. It is preferred over Stemming.\n",
    "from textblob import Word\n",
    "train['Lyrics'] = train['Lyrics'].apply(lambda x: \" \".join([Word(word).lemmatize() for word in x.split()]))\n",
    "train['Lyrics'].head()"
   ]
  },
  {
   "cell_type": "code",
   "execution_count": 142,
   "metadata": {},
   "outputs": [],
   "source": [
    "df = pd.DataFrame(train['Lyrics'])"
   ]
  },
  {
   "cell_type": "code",
   "execution_count": 143,
   "metadata": {},
   "outputs": [
    {
     "data": {
      "text/html": [
       "<div>\n",
       "<style scoped>\n",
       "    .dataframe tbody tr th:only-of-type {\n",
       "        vertical-align: middle;\n",
       "    }\n",
       "\n",
       "    .dataframe tbody tr th {\n",
       "        vertical-align: top;\n",
       "    }\n",
       "\n",
       "    .dataframe thead th {\n",
       "        text-align: right;\n",
       "    }\n",
       "</style>\n",
       "<table border=\"1\" class=\"dataframe\">\n",
       "  <thead>\n",
       "    <tr style=\"text-align: right;\">\n",
       "      <th></th>\n",
       "      <th>Lyrics</th>\n",
       "    </tr>\n",
       "  </thead>\n",
       "  <tbody>\n",
       "    <tr>\n",
       "      <th>0</th>\n",
       "      <td>took walk night wasnt fight promenade rain sai...</td>\n",
       "    </tr>\n",
       "    <tr>\n",
       "      <th>1</th>\n",
       "      <td>im coming cage ive fine gotta gotta want start...</td>\n",
       "    </tr>\n",
       "    <tr>\n",
       "      <th>2</th>\n",
       "      <td>save face know youve got one change way youre ...</td>\n",
       "    </tr>\n",
       "    <tr>\n",
       "      <th>3</th>\n",
       "      <td>breakin back know name seventeen track ive gam...</td>\n",
       "    </tr>\n",
       "    <tr>\n",
       "      <th>4</th>\n",
       "      <td>there nowhere else run room one son one son ho...</td>\n",
       "    </tr>\n",
       "  </tbody>\n",
       "</table>\n",
       "</div>"
      ],
      "text/plain": [
       "                                              Lyrics\n",
       "0  took walk night wasnt fight promenade rain sai...\n",
       "1  im coming cage ive fine gotta gotta want start...\n",
       "2  save face know youve got one change way youre ...\n",
       "3  breakin back know name seventeen track ive gam...\n",
       "4  there nowhere else run room one son one son ho..."
      ]
     },
     "execution_count": 143,
     "metadata": {},
     "output_type": "execute_result"
    }
   ],
   "source": [
    "df.head()"
   ]
  },
  {
   "cell_type": "code",
   "execution_count": 144,
   "metadata": {},
   "outputs": [],
   "source": [
    "df.to_csv('lyricsNEW.csv', index = False)"
   ]
  },
  {
   "cell_type": "code",
   "execution_count": null,
   "metadata": {},
   "outputs": [],
   "source": []
  }
 ],
 "metadata": {
  "kernelspec": {
   "display_name": "Python 3",
   "language": "python",
   "name": "python3"
  },
  "language_info": {
   "codemirror_mode": {
    "name": "ipython",
    "version": 3
   },
   "file_extension": ".py",
   "mimetype": "text/x-python",
   "name": "python",
   "nbconvert_exporter": "python",
   "pygments_lexer": "ipython3",
   "version": "3.6.5"
  }
 },
 "nbformat": 4,
 "nbformat_minor": 2
}
