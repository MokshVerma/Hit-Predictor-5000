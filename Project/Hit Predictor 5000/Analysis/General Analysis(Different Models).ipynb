{
 "cells": [
  {
   "cell_type": "code",
   "execution_count": 69,
   "metadata": {},
   "outputs": [],
   "source": [
    "import pandas as pd\n",
    "from sklearn.feature_extraction.text import CountVectorizer\n",
    "from sklearn.feature_extraction.text import TfidfTransformer\n",
    "from sklearn.naive_bayes import MultinomialNB\n",
    "from sklearn.linear_model import LogisticRegression\n",
    "from sklearn.svm import SVC\n",
    "from sklearn.ensemble import RandomForestClassifier, VotingClassifier\n",
    "from sklearn.metrics import confusion_matrix\n",
    "from sklearn.metrics import classification_report\n",
    "from sklearn.model_selection import train_test_split"
   ]
  },
  {
   "cell_type": "code",
   "execution_count": 70,
   "metadata": {},
   "outputs": [
    {
     "name": "stdout",
     "output_type": "stream",
     "text": [
      "351\n",
      "352\n",
      "385\n"
     ]
    }
   ],
   "source": [
    "testCSV = pd.read_csv('Dataset(Analysis)(processed lyrics).csv')\n",
    "df= pd.DataFrame(testCSV)\n",
    "print(sum(df[\"Hit\"] == 1))\n",
    "print(sum(df[\"Hit\"] == 0))\n",
    "print(sum(df['Artist Popularity'] > 75))"
   ]
  },
  {
   "cell_type": "markdown",
   "metadata": {},
   "source": [
    "# Bag of Words"
   ]
  },
  {
   "cell_type": "code",
   "execution_count": 71,
   "metadata": {},
   "outputs": [
    {
     "name": "stdout",
     "output_type": "stream",
     "text": [
      "1000\n",
      "Shape of Sparse Matrix:  (703, 1000)\n"
     ]
    }
   ],
   "source": [
    "bow = CountVectorizer(max_features=1000,\n",
    "                      lowercase=True,\n",
    "                      ngram_range=(1,2),\n",
    "                      analyzer = \"word\").fit(testCSV['Lyrics'].values.astype(str))\n",
    "print(len(bow.vocabulary_))\n",
    "\n",
    "lyrics_bow = bow.transform(testCSV['Lyrics'].values.astype(str))\n",
    "print('Shape of Sparse Matrix: ', lyrics_bow.shape)"
   ]
  },
  {
   "cell_type": "markdown",
   "metadata": {},
   "source": [
    "# TF-IDF Vectorization"
   ]
  },
  {
   "cell_type": "code",
   "execution_count": 72,
   "metadata": {},
   "outputs": [],
   "source": [
    "tfidf_transformer = TfidfTransformer().fit(lyrics_bow)\n",
    "lyrics_tfidf = tfidf_transformer.transform(lyrics_bow)"
   ]
  },
  {
   "cell_type": "markdown",
   "metadata": {},
   "source": [
    "# Splitting"
   ]
  },
  {
   "cell_type": "code",
   "execution_count": 73,
   "metadata": {},
   "outputs": [],
   "source": [
    "X_train, X_test, Y_train, Y_test = train_test_split(lyrics_bow, testCSV['Hit'], test_size=0.2,random_state = 938)"
   ]
  },
  {
   "cell_type": "markdown",
   "metadata": {},
   "source": [
    "# Naive Bayes Classifier"
   ]
  },
  {
   "cell_type": "code",
   "execution_count": 74,
   "metadata": {},
   "outputs": [
    {
     "name": "stdout",
     "output_type": "stream",
     "text": [
      "Accuracy:  0.6950354609929078\n",
      "[[34 35]\n",
      " [ 8 64]]\n"
     ]
    }
   ],
   "source": [
    "modelNBC = MultinomialNB()\n",
    "modelNBC.fit(X_train, Y_train)\n",
    "predictionsNBC = modelNBC.predict(X_test)\n",
    "cnf = confusion_matrix(Y_test, predictionsNBC)\n",
    "print('Accuracy: ', (cnf[0][0]+cnf[1][1])/(cnf[0][0]+cnf[0][1]+cnf[1][0]+cnf[1][1]))\n",
    "print(cnf)"
   ]
  },
  {
   "cell_type": "code",
   "execution_count": 75,
   "metadata": {},
   "outputs": [
    {
     "name": "stdout",
     "output_type": "stream",
     "text": [
      "             precision    recall  f1-score   support\n",
      "\n",
      "          0       0.81      0.49      0.61        69\n",
      "          1       0.65      0.89      0.75        72\n",
      "\n",
      "avg / total       0.73      0.70      0.68       141\n",
      "\n"
     ]
    }
   ],
   "source": [
    "print(classification_report(Y_test, predictionsNBC))"
   ]
  },
  {
   "cell_type": "markdown",
   "metadata": {},
   "source": [
    "# Logistic Regression"
   ]
  },
  {
   "cell_type": "code",
   "execution_count": 76,
   "metadata": {},
   "outputs": [
    {
     "name": "stdout",
     "output_type": "stream",
     "text": [
      "Accuracy:  0.7021276595744681\n",
      "[[43 26]\n",
      " [16 56]]\n"
     ]
    }
   ],
   "source": [
    "modelLog = LogisticRegression()\n",
    "modelLog.fit(X_train, Y_train)\n",
    "predictionsLog = modelLog.predict(X_test)\n",
    "cnf = confusion_matrix(Y_test, predictionsLog)\n",
    "print('Accuracy: ', (cnf[0][0]+cnf[1][1])/(cnf[0][0]+cnf[0][1]+cnf[1][0]+cnf[1][1]))\n",
    "print(cnf)"
   ]
  },
  {
   "cell_type": "code",
   "execution_count": 77,
   "metadata": {},
   "outputs": [
    {
     "name": "stdout",
     "output_type": "stream",
     "text": [
      "             precision    recall  f1-score   support\n",
      "\n",
      "          0       0.73      0.62      0.67        69\n",
      "          1       0.68      0.78      0.73        72\n",
      "\n",
      "avg / total       0.71      0.70      0.70       141\n",
      "\n"
     ]
    }
   ],
   "source": [
    "print(classification_report(Y_test, predictionsLog))"
   ]
  },
  {
   "cell_type": "markdown",
   "metadata": {},
   "source": [
    "# Support Vector Classifier"
   ]
  },
  {
   "cell_type": "code",
   "execution_count": 78,
   "metadata": {},
   "outputs": [
    {
     "name": "stdout",
     "output_type": "stream",
     "text": [
      "Accuracy:  0.5531914893617021\n",
      "[[57 12]\n",
      " [51 21]]\n"
     ]
    }
   ],
   "source": [
    "modelSVC = SVC()\n",
    "modelSVC.fit(X_train, Y_train)\n",
    "predictionsSVC = modelSVC.predict(X_test)\n",
    "cnf = confusion_matrix(Y_test, predictionsSVC)\n",
    "print('Accuracy: ', (cnf[0][0]+cnf[1][1])/(cnf[0][0]+cnf[0][1]+cnf[1][0]+cnf[1][1]))\n",
    "print(cnf)"
   ]
  },
  {
   "cell_type": "code",
   "execution_count": 79,
   "metadata": {},
   "outputs": [
    {
     "name": "stdout",
     "output_type": "stream",
     "text": [
      "             precision    recall  f1-score   support\n",
      "\n",
      "          0       0.53      0.83      0.64        69\n",
      "          1       0.64      0.29      0.40        72\n",
      "\n",
      "avg / total       0.58      0.55      0.52       141\n",
      "\n"
     ]
    }
   ],
   "source": [
    "print(classification_report(Y_test, predictionsSVC))"
   ]
  },
  {
   "cell_type": "markdown",
   "metadata": {},
   "source": [
    "# Random Forest Classifier"
   ]
  },
  {
   "cell_type": "code",
   "execution_count": 80,
   "metadata": {},
   "outputs": [
    {
     "name": "stdout",
     "output_type": "stream",
     "text": [
      "Accuracy:  0.6666666666666666\n",
      "[[35 34]\n",
      " [13 59]]\n"
     ]
    }
   ],
   "source": [
    "modelRFC = RandomForestClassifier(n_estimators = 200, random_state=200)\n",
    "modelRFC.fit(X_train, Y_train)\n",
    "predictionsRFC = modelRFC.predict(X_test)\n",
    "cnf = confusion_matrix(Y_test, predictionsRFC)\n",
    "print('Accuracy: ', (cnf[0][0]+cnf[1][1])/(cnf[0][0]+cnf[0][1]+cnf[1][0]+cnf[1][1]))\n",
    "print(cnf)"
   ]
  },
  {
   "cell_type": "code",
   "execution_count": 81,
   "metadata": {},
   "outputs": [
    {
     "name": "stdout",
     "output_type": "stream",
     "text": [
      "             precision    recall  f1-score   support\n",
      "\n",
      "          0       0.73      0.51      0.60        69\n",
      "          1       0.63      0.82      0.72        72\n",
      "\n",
      "avg / total       0.68      0.67      0.66       141\n",
      "\n"
     ]
    }
   ],
   "source": [
    "print(classification_report(Y_test, predictionsRFC))"
   ]
  },
  {
   "cell_type": "code",
   "execution_count": 14,
   "metadata": {},
   "outputs": [],
   "source": [
    "# est_Ensemble = VotingClassifier(estimators=[('AB', model), ('Log', modelLog)],\n",
    "#                         weights=[1, 1])"
   ]
  }
 ],
 "metadata": {
  "kernelspec": {
   "display_name": "Python 3",
   "language": "python",
   "name": "python3"
  },
  "language_info": {
   "codemirror_mode": {
    "name": "ipython",
    "version": 3
   },
   "file_extension": ".py",
   "mimetype": "text/x-python",
   "name": "python",
   "nbconvert_exporter": "python",
   "pygments_lexer": "ipython3",
   "version": "3.6.5"
  }
 },
 "nbformat": 4,
 "nbformat_minor": 2
}
