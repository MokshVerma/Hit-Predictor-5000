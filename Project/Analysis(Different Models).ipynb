{
 "cells": [
  {
   "cell_type": "code",
   "execution_count": null,
   "metadata": {},
   "outputs": [],
   "source": [
    "import pandas as pd\n",
    "from sklearn.feature_extraction.text import CountVectorizer\n",
    "from sklearn.feature_extraction.text import TfidfTransformer\n",
    "from sklearn.naive_bayes import MultinomialNB\n",
    "from sklearn.linear_model import LogisticRegression\n",
    "from sklearn.svm import SVC\n",
    "from sklearn.ensemble import RandomForestClassifier, VotingClassifier\n",
    "from sklearn.metrics import confusion_matrix\n",
    "from sklearn.metrics import classification_report\n",
    "from sklearn.model_selection import train_test_split"
   ]
  },
  {
   "cell_type": "code",
   "execution_count": 2,
   "metadata": {},
   "outputs": [
    {
     "name": "stdout",
     "output_type": "stream",
     "text": [
      "351\n",
      "352\n",
      "385\n"
     ]
    }
   ],
   "source": [
    "csv = pd.read_csv('jugaad(processed lyrics).csv')\n",
    "df= pd.DataFrame(csv)\n",
    "print(sum(df[\"Hit\"] == 1))\n",
    "print(sum(df[\"Hit\"] == 0))\n",
    "print(sum(df['Artist Popularity'] > 75))"
   ]
  },
  {
   "cell_type": "markdown",
   "metadata": {},
   "source": [
    "# Bag of Words"
   ]
  },
  {
   "cell_type": "code",
   "execution_count": 3,
   "metadata": {},
   "outputs": [
    {
     "name": "stdout",
     "output_type": "stream",
     "text": [
      "1000\n",
      "Shape of Sparse Matrix:  (703, 1000)\n",
      "<class 'scipy.sparse.csr.csr_matrix'>\n"
     ]
    }
   ],
   "source": [
    "bow = CountVectorizer(max_features=1000,\n",
    "                      lowercase=True,\n",
    "                      ngram_range=(1,1),\n",
    "                      analyzer = \"word\").fit(testCSV['Lyrics'].values.astype(str))\n",
    "print(len(bow.vocabulary_))\n",
    "\n",
    "lyrics_bow = bow.transform(testCSV['Lyrics'].values.astype(str))\n",
    "print('Shape of Sparse Matrix: ', lyrics_bow.shape)"
   ]
  },
  {
   "cell_type": "markdown",
   "metadata": {},
   "source": [
    "# TF-IDF Vectorization"
   ]
  },
  {
   "cell_type": "code",
   "execution_count": 4,
   "metadata": {},
   "outputs": [],
   "source": [
    "tfidf_transformer = TfidfTransformer().fit(lyrics_bow)\n",
    "lyrics_tfidf = tfidf_transformer.transform(lyrics_bow)"
   ]
  },
  {
   "cell_type": "markdown",
   "metadata": {},
   "source": [
    "# Splitting"
   ]
  },
  {
   "cell_type": "code",
   "execution_count": 5,
   "metadata": {},
   "outputs": [],
   "source": [
    "X_train, X_test, Y_train, Y_test = train_test_split(lyrics_bow, testCSV['Hit'], test_size=0.2,random_state = 938)"
   ]
  },
  {
   "cell_type": "markdown",
   "metadata": {},
   "source": [
    "# Naive Bayes Classifier"
   ]
  },
  {
   "cell_type": "code",
   "execution_count": 6,
   "metadata": {},
   "outputs": [
    {
     "name": "stdout",
     "output_type": "stream",
     "text": [
      "Accuracy:  0.6595744680851063\n",
      "[[35 34]\n",
      " [14 58]]\n"
     ]
    }
   ],
   "source": [
    "modelNBC = MultinomialNB()\n",
    "modelNBC.fit(X_train, Y_train)\n",
    "predictionsNBC = modelNBC.predict(X_test)\n",
    "cnf = confusion_matrix(Y_test, predictionsNBC)\n",
    "print('Accuracy: ', (cnf[0][0]+cnf[1][1])/(cnf[0][0]+cnf[0][1]+cnf[1][0]+cnf[1][1]))\n",
    "print(cnf)"
   ]
  },
  {
   "cell_type": "code",
   "execution_count": 7,
   "metadata": {},
   "outputs": [
    {
     "name": "stdout",
     "output_type": "stream",
     "text": [
      "             precision    recall  f1-score   support\n",
      "\n",
      "          0       0.71      0.51      0.59        69\n",
      "          1       0.63      0.81      0.71        72\n",
      "\n",
      "avg / total       0.67      0.66      0.65       141\n",
      "\n"
     ]
    }
   ],
   "source": [
    "print(classification_report(Y_test, predictionsNBC))"
   ]
  },
  {
   "cell_type": "markdown",
   "metadata": {},
   "source": [
    "# Logistic Regression"
   ]
  },
  {
   "cell_type": "code",
   "execution_count": 8,
   "metadata": {},
   "outputs": [
    {
     "name": "stdout",
     "output_type": "stream",
     "text": [
      "Accuracy:  0.6879432624113475\n",
      "[[41 28]\n",
      " [16 56]]\n"
     ]
    }
   ],
   "source": [
    "modelLog = LogisticRegression()\n",
    "modelLog.fit(X_train, Y_train)\n",
    "predictionsLog = modelLog.predict(X_test)\n",
    "cnf = confusion_matrix(Y_test, predictionsLog)\n",
    "print('Accuracy: ', (cnf[0][0]+cnf[1][1])/(cnf[0][0]+cnf[0][1]+cnf[1][0]+cnf[1][1]))\n",
    "print(cnf)"
   ]
  },
  {
   "cell_type": "code",
   "execution_count": 9,
   "metadata": {},
   "outputs": [
    {
     "name": "stdout",
     "output_type": "stream",
     "text": [
      "             precision    recall  f1-score   support\n",
      "\n",
      "          0       0.72      0.59      0.65        69\n",
      "          1       0.67      0.78      0.72        72\n",
      "\n",
      "avg / total       0.69      0.69      0.69       141\n",
      "\n"
     ]
    }
   ],
   "source": [
    "print(classification_report(Y_test, predictionsLog))"
   ]
  },
  {
   "cell_type": "markdown",
   "metadata": {},
   "source": [
    "# Support Vector Classifier"
   ]
  },
  {
   "cell_type": "code",
   "execution_count": 10,
   "metadata": {},
   "outputs": [
    {
     "name": "stdout",
     "output_type": "stream",
     "text": [
      "Accuracy:  0.5531914893617021\n",
      "[[58 11]\n",
      " [52 20]]\n"
     ]
    }
   ],
   "source": [
    "modelSVC = SVC()\n",
    "modelSVC.fit(X_train, Y_train)\n",
    "predictionsSVC = modelSVC.predict(X_test)\n",
    "cnf = confusion_matrix(Y_test, predictionsSVC)\n",
    "print('Accuracy: ', (cnf[0][0]+cnf[1][1])/(cnf[0][0]+cnf[0][1]+cnf[1][0]+cnf[1][1]))\n",
    "print(cnf)"
   ]
  },
  {
   "cell_type": "code",
   "execution_count": 11,
   "metadata": {},
   "outputs": [
    {
     "name": "stdout",
     "output_type": "stream",
     "text": [
      "             precision    recall  f1-score   support\n",
      "\n",
      "          0       0.53      0.84      0.65        69\n",
      "          1       0.65      0.28      0.39        72\n",
      "\n",
      "avg / total       0.59      0.55      0.52       141\n",
      "\n"
     ]
    }
   ],
   "source": [
    "print(classification_report(Y_test, predictionsSVC))"
   ]
  },
  {
   "cell_type": "markdown",
   "metadata": {},
   "source": [
    "# Random Forest Classifier"
   ]
  },
  {
   "cell_type": "code",
   "execution_count": 12,
   "metadata": {},
   "outputs": [
    {
     "name": "stdout",
     "output_type": "stream",
     "text": [
      "Accuracy:  0.6453900709219859\n",
      "[[50 19]\n",
      " [31 41]]\n"
     ]
    }
   ],
   "source": [
    "modelRFC = RandomForestClassifier()\n",
    "modelRFC.fit(X_train, Y_train)\n",
    "predictionsRFC = modelRFC.predict(X_test)\n",
    "cnf = confusion_matrix(Y_test, predictionsRFC)\n",
    "print('Accuracy: ', (cnf[0][0]+cnf[1][1])/(cnf[0][0]+cnf[0][1]+cnf[1][0]+cnf[1][1]))\n",
    "print(cnf)"
   ]
  },
  {
   "cell_type": "code",
   "execution_count": 13,
   "metadata": {},
   "outputs": [
    {
     "name": "stdout",
     "output_type": "stream",
     "text": [
      "             precision    recall  f1-score   support\n",
      "\n",
      "          0       0.62      0.72      0.67        69\n",
      "          1       0.68      0.57      0.62        72\n",
      "\n",
      "avg / total       0.65      0.65      0.64       141\n",
      "\n"
     ]
    }
   ],
   "source": [
    "print(classification_report(Y_test, predictionsRFC))"
   ]
  },
  {
   "cell_type": "code",
   "execution_count": 14,
   "metadata": {},
   "outputs": [],
   "source": [
    "# est_Ensemble = VotingClassifier(estimators=[('AB', model), ('Log', modelLog)],\n",
    "#                         weights=[1, 1])"
   ]
  }
 ],
 "metadata": {
  "kernelspec": {
   "display_name": "Python 3",
   "language": "python",
   "name": "python3"
  },
  "language_info": {
   "codemirror_mode": {
    "name": "ipython",
    "version": 3
   },
   "file_extension": ".py",
   "mimetype": "text/x-python",
   "name": "python",
   "nbconvert_exporter": "python",
   "pygments_lexer": "ipython3",
   "version": "3.6.5"
  }
 },
 "nbformat": 4,
 "nbformat_minor": 2
}
