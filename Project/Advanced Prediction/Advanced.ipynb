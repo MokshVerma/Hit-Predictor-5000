{
 "cells": [
  {
   "cell_type": "code",
   "execution_count": 2,
   "metadata": {},
   "outputs": [],
   "source": [
    "import pandas as pd"
   ]
  },
  {
   "cell_type": "code",
   "execution_count": 3,
   "metadata": {},
   "outputs": [],
   "source": [
    "from sklearn_pandas import DataFrameMapper\n",
    "from sklearn.feature_extraction.text import TfidfTransformer, TfidfVectorizer"
   ]
  },
  {
   "cell_type": "code",
   "execution_count": 4,
   "metadata": {
    "scrolled": true
   },
   "outputs": [],
   "source": [
    "df = pd.read_csv('jugaad(processed lyrics).csv')"
   ]
  },
  {
   "cell_type": "code",
   "execution_count": 5,
   "metadata": {},
   "outputs": [
    {
     "name": "stdout",
     "output_type": "stream",
     "text": [
      "10000\n"
     ]
    }
   ],
   "source": [
    "from sklearn.feature_extraction.text import CountVectorizer\n",
    "bow = CountVectorizer(max_features=10000,\n",
    "                      lowercase=True,\n",
    "                      ngram_range=(1,2),\n",
    "                      analyzer = \"word\").fit(df['Lyrics'].values.astype(str))\n",
    "print(len(bow.vocabulary_))\n",
    "lyrics_bow = bow.transform(df['Lyrics'].values.astype(str))\n",
    "#df['Bag Of Words'] = lyrics_bow"
   ]
  },
  {
   "cell_type": "code",
   "execution_count": 6,
   "metadata": {},
   "outputs": [],
   "source": [
    "\n",
    "tfidf_transformer = TfidfTransformer().fit(lyrics_bow)\n",
    "lyrics_tfidf = tfidf_transformer.transform(lyrics_bow)\n",
    "\n",
    "df['Bag Of Words'] = lyrics_tfidf\n",
    "\n",
    "df['Lyrics'] = df['Lyrics'].astype(str)\n",
    "mapper = DataFrameMapper([\n",
    "     ('Lyrics', TfidfVectorizer()),\n",
    "      ('Tempo', None),\n",
    "      ('Energy', None),\n",
    "       ('Loudness', None),\n",
    "#      ('Danceability', None),\n",
    "#      ('Speechiness', None),\n",
    "#      ('Acousticness', None),\n",
    "     ('Artist Hit', None)\n",
    " ])"
   ]
  },
  {
   "cell_type": "code",
   "execution_count": 7,
   "metadata": {},
   "outputs": [],
   "source": [
    "features = mapper.fit_transform(df[['Lyrics', 'Tempo', 'Energy','Loudness', 'Artist Hit']])"
   ]
  },
  {
   "cell_type": "code",
   "execution_count": 8,
   "metadata": {},
   "outputs": [],
   "source": [
    "y = df['Hit']"
   ]
  },
  {
   "cell_type": "code",
   "execution_count": 9,
   "metadata": {},
   "outputs": [],
   "source": [
    "from sklearn.model_selection import train_test_split\n",
    "X_train, X_test, Y_train, Y_test = train_test_split(features, y, test_size=0.2,random_state = 254)"
   ]
  },
  {
   "cell_type": "markdown",
   "metadata": {},
   "source": [
    "# Multinomial Naive Bayes"
   ]
  },
  {
   "cell_type": "code",
   "execution_count": 10,
   "metadata": {},
   "outputs": [],
   "source": [
    "from sklearn.naive_bayes import MultinomialNB\n",
    "model = MultinomialNB()\n",
    "\n",
    "model.fit(X_train, Y_train)\n",
    "predictions = model.predict(X_test)"
   ]
  },
  {
   "cell_type": "code",
   "execution_count": 11,
   "metadata": {
    "scrolled": true
   },
   "outputs": [
    {
     "name": "stdout",
     "output_type": "stream",
     "text": [
      "0.9058823529411765\n",
      "             precision    recall  f1-score   support\n",
      "\n",
      "          0       0.80      0.39      0.52        82\n",
      "          1       0.61      0.91      0.73        85\n",
      "\n",
      "avg / total       0.70      0.65      0.63       167\n",
      "\n"
     ]
    }
   ],
   "source": [
    "from sklearn.metrics import classification_report\n",
    "from sklearn.metrics import recall_score\n",
    "print(recall_score(Y_test,predictions))\n",
    "print(classification_report(Y_test, predictions))"
   ]
  },
  {
   "cell_type": "code",
   "execution_count": 12,
   "metadata": {},
   "outputs": [
    {
     "data": {
      "text/plain": [
       "array([[32, 50],\n",
       "       [ 8, 77]], dtype=int64)"
      ]
     },
     "execution_count": 12,
     "metadata": {},
     "output_type": "execute_result"
    }
   ],
   "source": [
    "from sklearn.metrics import confusion_matrix\n",
    "cnf_matrix = confusion_matrix(Y_test, predictions)\n",
    "cnf_matrix"
   ]
  },
  {
   "cell_type": "markdown",
   "metadata": {},
   "source": [
    "# Decision Trees"
   ]
  },
  {
   "cell_type": "code",
   "execution_count": 13,
   "metadata": {},
   "outputs": [],
   "source": [
    "from sklearn.tree import DecisionTreeClassifier\n",
    "model = DecisionTreeClassifier(random_state=30)\n",
    "model.fit(X_train, Y_train)\n",
    "predictions = model.predict(X_test)"
   ]
  },
  {
   "cell_type": "code",
   "execution_count": 14,
   "metadata": {},
   "outputs": [
    {
     "name": "stdout",
     "output_type": "stream",
     "text": [
      "             precision    recall  f1-score   support\n",
      "\n",
      "          0       0.64      0.65      0.64        82\n",
      "          1       0.65      0.65      0.65        85\n",
      "\n",
      "avg / total       0.65      0.65      0.65       167\n",
      "\n"
     ]
    },
    {
     "data": {
      "text/plain": [
       "array([[53, 29],\n",
       "       [30, 55]], dtype=int64)"
      ]
     },
     "execution_count": 14,
     "metadata": {},
     "output_type": "execute_result"
    }
   ],
   "source": [
    "print(classification_report(Y_test, predictions))\n",
    "cnf_matrix = confusion_matrix(Y_test, predictions)\n",
    "cnf_matrix"
   ]
  },
  {
   "cell_type": "markdown",
   "metadata": {},
   "source": [
    "# Random Forest"
   ]
  },
  {
   "cell_type": "code",
   "execution_count": 21,
   "metadata": {},
   "outputs": [],
   "source": [
    "from sklearn.ensemble import RandomForestClassifier\n",
    "model = RandomForestClassifier(n_estimators = 200, random_state=30)\n",
    "model.fit(X_train, Y_train)\n",
    "predictions = model.predict(X_test)"
   ]
  },
  {
   "cell_type": "code",
   "execution_count": 22,
   "metadata": {},
   "outputs": [
    {
     "name": "stdout",
     "output_type": "stream",
     "text": [
      "             precision    recall  f1-score   support\n",
      "\n",
      "          0       0.77      0.57      0.66        82\n",
      "          1       0.67      0.84      0.74        85\n",
      "\n",
      "avg / total       0.72      0.71      0.70       167\n",
      "\n"
     ]
    },
    {
     "data": {
      "text/plain": [
       "array([[47, 35],\n",
       "       [14, 71]], dtype=int64)"
      ]
     },
     "execution_count": 22,
     "metadata": {},
     "output_type": "execute_result"
    }
   ],
   "source": [
    "print(classification_report(Y_test, predictions))\n",
    "cnf_matrix = confusion_matrix(Y_test, predictions)\n",
    "cnf_matrix"
   ]
  },
  {
   "cell_type": "code",
   "execution_count": null,
   "metadata": {},
   "outputs": [],
   "source": []
  },
  {
   "cell_type": "code",
   "execution_count": 138,
   "metadata": {},
   "outputs": [],
   "source": [
    "# artistHit = []\n",
    "# csv = pd.read_csv('jugaad(processed lyrics)old.csv')\n",
    "# csv['Artist Popularity']\n",
    "# for i in csv['Artist Popularity'].tolist():\n",
    "#     if i < 75:\n",
    "#         artistHit.append('1')\n",
    "#     else: \n",
    "#         artistHit.append('0')\n",
    "# pd.DataFrame(artistHit).to_csv('ok.csv')"
   ]
  },
  {
   "cell_type": "code",
   "execution_count": null,
   "metadata": {},
   "outputs": [],
   "source": []
  }
 ],
 "metadata": {
  "kernelspec": {
   "display_name": "Python 3",
   "language": "python",
   "name": "python3"
  },
  "language_info": {
   "codemirror_mode": {
    "name": "ipython",
    "version": 3
   },
   "file_extension": ".py",
   "mimetype": "text/x-python",
   "name": "python",
   "nbconvert_exporter": "python",
   "pygments_lexer": "ipython3",
   "version": "3.6.5"
  }
 },
 "nbformat": 4,
 "nbformat_minor": 2
}
